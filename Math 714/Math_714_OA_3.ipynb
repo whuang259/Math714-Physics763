{
 "cells": [
  {
   "cell_type": "markdown",
   "id": "0d177975",
   "metadata": {},
   "source": [
    "Consider the Poisson problem\n",
    "$$ -\\frac{\\partial^2 u}{\\partial x^2} = f $$\n",
    "\n",
    "for $x \\in [-1,1]$ but with boundary conditions $u(-1) = a$ and $u(1) = b$. Use a mesh spacing of $h = 2/(m+1)$ and grid points at $x_j = -1 + hj$. Define \n",
    "$$ f(x) = \\begin{cases}\n",
    "1 \\qquad &\\text{if } |x| < 1/2 \\\\\n",
    "0 \\qquad &\\text{otherwise}\n",
    "\\end{cases} $$\n",
    "\n",
    "Write $U = (u_0, \\ldots, u_{m+1}) \\in \\mathbb{R}^{m+2}$ to be a solution vector. By incorporating the Dirichlet conditions, the linear system becomes $AU = F$, which is\n",
    "$$ \\begin{pmatrix} \n",
    "\\alpha \\\\\n",
    "-1 & 2 & -1 \\\\\n",
    "& -1 & 2 & -1 \\\\\n",
    "&& -1 & \\ddots & -1 \\\\\n",
    "&&& -1 & 2 & -1 \\\\\n",
    "&&&& -1 & 2 & -1 \\\\\n",
    "&&&&&& \\alpha \n",
    "\\end{pmatrix} \\begin{pmatrix} \n",
    "u_0 \\\\ u_1 \\\\ u_2 \\\\ \\vdots \\\\ \\vdots \\\\ u_m \\\\ u_{m+1}\n",
    "\\end{pmatrix} = \\begin{pmatrix} \n",
    "\\alpha a \\\\h^2 f_1 \\\\ h^2 f_2 \\\\ \\vdots \\\\ \\vdots \\\\ h^2 f_m \\\\ \\alpha b\n",
    "\\end{pmatrix} $$\n",
    "where $\\alpha$ is a nonzero constant."
   ]
  },
  {
   "cell_type": "markdown",
   "id": "edadd335",
   "metadata": {},
   "source": [
    "# Problem 1\n",
    "\n",
    "Implement the Gauss–Seidel algorithm to solve the system using $m = 31, 63, 127$. Use $\\alpha = 1, a = −1, b = 1$ and start from $U$ being identically zero. Terminate your program when the residual $\\|AU − F\\|_2$ falls below $10^{−8}$. Does the number of\n",
    "iterations scale like $O(m^2)$ as expected?\n"
   ]
  },
  {
   "cell_type": "code",
   "execution_count": 1,
   "id": "62c0b611",
   "metadata": {},
   "outputs": [
    {
     "name": "stdout",
     "output_type": "stream",
     "text": [
      "m=31\t k=1489\n",
      "m=63\t k=5486\n",
      "m=127\t k=20137\n",
      "\n",
      "a=2.62\t b=1.85\n"
     ]
    },
    {
     "data": {
      "image/png": "[encoded data removed]",
      "text/plain": [
       "<Figure size 432x288 with 1 Axes>"
      ]
     },
     "metadata": {
      "needs_background": "light"
     },
     "output_type": "display_data"
    }
   ],
   "source": [
    "import numpy as np\n",
    "import matplotlib.pyplot as plt\n",
    "\n",
    "def f(x):\n",
    "    return 1 if np.abs(x) < 1/2 else 0\n",
    "\n",
    "def fit_loglog(xs, ys, x_lab=\"\", y_lab=\"\"):\n",
    "    A = np.asmatrix([[np.log(x), 1] for x in xs])\n",
    "    b, a = np.linalg.lstsq(A, np.log(ys), rcond=None)[0]\n",
    "    a = np.exp(a)\n",
    "    fit = [a*x**b for x in xs]\n",
    "    print(f\"\\na={a:.3}\\t b={b:.3}\")\n",
    "\n",
    "    plt.loglog(xs, ys, 'bo')\n",
    "    plt.loglog(xs, fit)\n",
    "    plt.xlabel(x_lab)\n",
    "    plt.ylabel(y_lab)\n",
    "    plt.show()\n",
    "\n",
    "def build_A_matrix(m):\n",
    "    h = 2./(m+1)\n",
    "    \n",
    "    D = 2 * np.eye(m+2)  # Diagonal part\n",
    "    D[0][0] = alpha\n",
    "    D[-1][-1] = alpha\n",
    "    \n",
    "    L = np.diag([1 for i in range(m+1)], -1)  # -1 * lower triangular part\n",
    "    L[-1][-2] = 0\n",
    "    U = np.diag([1 for i in range(m+1)], 1)  # -1 * upper triangular part\n",
    "    U[0][1] = 0\n",
    "        \n",
    "    return D,L,U\n",
    "\n",
    "def get_source(m):\n",
    "    h = 2./(m+1)\n",
    "    F = np.zeros(m+2)\n",
    "    F[0] = alpha * a\n",
    "    F[-1] = alpha * b\n",
    "    for i in range(m):\n",
    "        F[i + 1] = h**2 * f(-1 + h*(i+1))\n",
    "    return F\n",
    "\n",
    "ms = [31, 63, 127]\n",
    "alpha = 1\n",
    "a = -1\n",
    "b = 1\n",
    "\n",
    "def gauss_seidel(m):\n",
    "    D,L,U = build_A_matrix(m)\n",
    "    F = get_source(m)\n",
    "    A = D - L - U\n",
    "    \n",
    "    DLinv = np.linalg.inv(D - L)\n",
    "    X = DLinv@U\n",
    "    v = DLinv@F\n",
    "    u = np.zeros(m+2)\n",
    "    k = 0\n",
    "    while True:\n",
    "        k += 1\n",
    "        u = X@u + v\n",
    "        r = A@u - F\n",
    "        if np.linalg.norm(r) < 1e-8:\n",
    "            break\n",
    "    return k\n",
    "    \n",
    "iterations = []\n",
    "for m in ms:\n",
    "    k = gauss_seidel(m)\n",
    "    print(f\"m={m}\\t k={k}\")\n",
    "    iterations.append(k)\n",
    "    \n",
    "fit_loglog(ms, iterations, \"Grid Points\", \"Iterations\")"
   ]
  },
  {
   "cell_type": "markdown",
   "id": "276c7992",
   "metadata": {},
   "source": [
    "So iterations scales with $\\approx O(n^{1.85})$ which is pretty close to what we expect."
   ]
  },
  {
   "cell_type": "markdown",
   "id": "65d2f8ff",
   "metadata": {},
   "source": [
    "# Problem 2\n",
    "\n",
    "Implement the one-dimensional V-cycle multigrid algorithm that was introduced in the workshop, a hierarchy of grids with $2^q + 1$ gridpoints, with the coarsest grid having 5 gridpoints. Use the restriction operators $R^{(i)}$ and interpolation operators\n",
    "$T^{(i)}$ that were introduced in the workshop. Let $A^{(0)}$ be the original matrix on the finest grid, and compute the matrices on the coarser grids using\n",
    "$$ A^{(i)} = R^{(i−1)} A^{(i−1)} T^{(i)} $$\n",
    "\n",
    "Use $v_\\text{down} = v_\\text{up} = 2$. For $m = 31, 63, 127$, calculate the number of V-cycles required to reach the same termination condition as in part (a)."
   ]
  },
  {
   "cell_type": "markdown",
   "id": "9d7a51b7",
   "metadata": {},
   "source": [
    "The solution operator $S$ in this case corresponds to a single Gauss-Seidel sweep. Recall that a single sweep for solving $Au = F$ is done by writing $A = D - L - U$ and then using the update step\n",
    "$$ u_{k+1} = (D - L)^{-1}U u_k + (D - L)^{-1} F$$\n",
    "\n",
    "To avoid having to compute $A$ over and over, we note that if $A^{(i-1)} = D^{(i-1)} - L^{(i-1)} - U^{(i-1)}$, then\n",
    "\\begin{align*}\n",
    "    A^{(i)} &= R^{(i-1)} A^{(i-1}) T^{(i)} \\\\\n",
    "    &= R^{(i-1)} \\left( D^{(i-1)} - L^{(i-1)} - U^{(i-1)} \\right) T^{(i)} \\\\\n",
    "    &= R^{(i-1)} D^{(i-1)} T^{(i)} - R^{(i-1)} L^{(i-1)} T^{(i)} - R^{(i-1)} U^{(i-1)} T^{(i)} \\\\\n",
    "    &= D^{(i)} - L^{(i)} - U^{(i)}\n",
    "\\end{align*}\n",
    "\n",
    "Thus we only need to keep track of $D,L,U$ as they go through the iterations. In particular we can use the build_A_matrix() function to construct them by passing in different values for $m$. Since we're just reconstructing $A$ for different size grids.\n",
    "\n",
    "This gives us the following expression for the solution operator\n",
    "$$ S(u^{(i)}, b^{(i)}) = (D^{(i)} - L^{(i)})^{-1}U^{(i)} u^{(i)} + (D^{(i)} - L^{(i)})^{-1} b^{(i)} $$"
   ]
  },
  {
   "cell_type": "code",
   "execution_count": 2,
   "id": "4f74062d",
   "metadata": {},
   "outputs": [
    {
     "name": "stdout",
     "output_type": "stream",
     "text": [
      "m=31\t k=135\n",
      "m=63\t k=377\n",
      "m=127\t k=1101\n",
      "\n",
      "a=0.807\t b=1.49\n"
     ]
    },
    {
     "data": {
      "image/png": "[encoded data removed]",
      "text/plain": [
       "<Figure size 432x288 with 1 Axes>"
      ]
     },
     "metadata": {
      "needs_background": "light"
     },
     "output_type": "display_data"
    }
   ],
   "source": [
    "def T(v):\n",
    "    ans = np.zeros(2*(len(v)-1) + 1)\n",
    "    for i in range(len(ans)):\n",
    "        if i % 2 == 0:\n",
    "            ans[i] = v[i//2]\n",
    "        else:\n",
    "            ans[i] = (v[i//2] + v[i//2 + 1]) / 2\n",
    "    return ans\n",
    "\n",
    "def R(v):\n",
    "    ans = np.zeros((len(v)-1)//2 + 1)\n",
    "    ans[0] = v[0]\n",
    "    ans[-1] = v[-1]\n",
    "    for i in range(1, len(ans) - 1):\n",
    "        j = 2 * (i-1) + 1\n",
    "        ans[i] = (v[j] + 2*v[j+1] + v[j+2]) / 4\n",
    "    return ans\n",
    "\n",
    "g = 5\n",
    "v_down = 2\n",
    "v_up = 2\n",
    "def multigrid(m):        \n",
    "    def multi(u, b, i, data):\n",
    "        n = int(np.log2(m + 1))\n",
    "        grid_size = 2**(n - i) + 1\n",
    "        Di, Li, Ui = data[i]\n",
    "        Ai = Di - Li - Ui\n",
    "        \n",
    "        # coarsest grid, return exact solution\n",
    "        if grid_size == g:\n",
    "            return np.linalg.solve(Ai, b)\n",
    "\n",
    "        DLinv = np.linalg.inv(Di - Li)\n",
    "        X = DLinv@Ui\n",
    "        v = DLinv@b\n",
    "        for j in range(v_down):\n",
    "            u = X@u + v\n",
    "            \n",
    "        r = R(b - Ai@u)\n",
    "        u += T(multi(np.zeros(len(r)), r, i+1, data))\n",
    "        for j in range(v_up):\n",
    "            u = X@u + v\n",
    "        return u\n",
    "    \n",
    "    # precompute D^i,L^i,U^i for all grids\n",
    "    top_level = int(np.log2(m + 1))\n",
    "    min_level = int(np.log2(g - 1))\n",
    "    data = []\n",
    "    for i in range(top_level, min_level-1, -1):\n",
    "        grid_size = 2**i - 1\n",
    "        data.append(build_A_matrix(grid_size))\n",
    "    \n",
    "    D,L,U = data[0]\n",
    "    F = get_source(m)\n",
    "    A = D - L - U\n",
    "    u = np.zeros(m+2)\n",
    "    k = 0\n",
    "    while True:\n",
    "        k += 1\n",
    "        u = multi(u, F, 0, data)\n",
    "        r = A@u - F\n",
    "        if np.linalg.norm(r) < 1e-8:\n",
    "            break\n",
    "    return k\n",
    "    \n",
    "cycles = []\n",
    "for m in ms:\n",
    "    k = multigrid(m)\n",
    "    print(f\"m={m}\\t k={k}\")\n",
    "    cycles.append(k)\n",
    "    \n",
    "fit_loglog(ms, cycles, \"Grid Points\", \"V Cycles\")"
   ]
  },
  {
   "cell_type": "markdown",
   "id": "dd5fe6b4",
   "metadata": {},
   "source": [
    "We now get cycles $\\approx O(m^{1.49})$ which is much better than the previous method."
   ]
  }
 ],
 "metadata": {
  "kernelspec": {
   "display_name": "Python 3",
   "language": "python",
   "name": "python3"
  },
  "language_info": {
   "codemirror_mode": {
    "name": "ipython",
    "version": 3
   },
   "file_extension": ".py",
   "mimetype": "text/x-python",
   "name": "python",
   "nbconvert_exporter": "python",
   "pygments_lexer": "ipython3",
   "version": "3.8.8"
  }
 },
 "nbformat": 4,
 "nbformat_minor": 5
}
