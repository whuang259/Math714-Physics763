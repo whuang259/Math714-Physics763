{
 "cells": [
  {
   "cell_type": "code",
   "execution_count": 1,
   "id": "401fda29",
   "metadata": {},
   "outputs": [],
   "source": [
    "import numpy as np\n",
    "import matplotlib.pyplot as plt\n",
    "from math import *\n",
    "import sys\n",
    "from time import time"
   ]
  },
  {
   "cell_type": "markdown",
   "id": "3117a698",
   "metadata": {},
   "source": [
    "# Problem 2\n",
    "\n",
    "## Part a"
   ]
  },
  {
   "cell_type": "code",
   "execution_count": 2,
   "id": "af3eda84",
   "metadata": {
    "scrolled": true
   },
   "outputs": [
    {
     "name": "stdout",
     "output_type": "stream",
     "text": [
      "10 0.1 7.890332163210708e-05 0.06695055961608887\n",
      "20 0.05 1.9745627594588276e-05 0.008531808853149414\n",
      "40 0.025 4.936638735621921e-06 0.0319366455078125\n",
      "80 0.0125 1.2341582552915492e-06 0.818840503692627\n",
      "160 0.00625 3.0853922485434837e-07 25.906237363815308\n",
      "a=3.22e-05, b=2.38\n"
     ]
    },
    {
     "data": {
      "image/png": "[encoded data removed]",
      "text/plain": [
       "<Figure size 432x288 with 1 Axes>"
      ]
     },
     "metadata": {
      "needs_background": "light"
     },
     "output_type": "display_data"
    }
   ],
   "source": [
    "s=sqrt(0.75)\n",
    "steps = [10,20,40,80,160]\n",
    "\n",
    "# Function to map an interior index (i,j) into the vector index\n",
    "def ind(i,j,n):\n",
    "    return i-1+(j-1)*(2*n-2-j)//2\n",
    "\n",
    "# Source term for the desired reference solution\n",
    "def fun(x,y):\n",
    "    return -8*(sqrt(3)-2*y)*cos(y)+4*(-4-3*x+3*x*x+sqrt(3)*y-y*y)*sin(y)\n",
    "\n",
    "# Reference solution\n",
    "def uex(x,y):\n",
    "    return ((2*y-sqrt(3))**2-3*(2*x-1)**2)*sin(y)\n",
    "\n",
    "# Function to check whether an index pair (i,j) is the interior of the grid\n",
    "def inrange(i,j,n):\n",
    "    return i>0 and j>0 and i+j<n\n",
    "\n",
    "def poisson_tri(n):\n",
    "    h=1./n\n",
    "    m=(n-1)*(n-2)//2\n",
    "\n",
    "    # Create derivative matrix and source term\n",
    "    d=np.zeros((m,m))\n",
    "    f=np.empty((m))\n",
    "    hfac=1/(3*h*h)\n",
    "    for j in range(1,n):\n",
    "        for i in range(1,n-j):\n",
    "            ij=ind(i,j,n)\n",
    "\n",
    "            # Derivative matrix\n",
    "            d[ij,ij]=-12*hfac\n",
    "            if(inrange(i+1,j,n)): d[ij,ind(i+1,j,n)]=2*hfac\n",
    "            if(inrange(i,j-1,n)): d[ij,ind(i,j-1,n)]=2*hfac\n",
    "            if(inrange(i-1,j+1,n)): d[ij,ind(i-1,j+1,n)]=2*hfac\n",
    "\n",
    "            # Additional lines for the stencil in part (b)\n",
    "            if(inrange(i-1,j,n)): d[ij,ind(i-1,j,n)]=2*hfac\n",
    "            if(inrange(i,j+1,n)): d[ij,ind(i,j+1,n)]=2*hfac\n",
    "            if(inrange(i+1,j-1,n)): d[ij,ind(i+1,j-1,n)]=2*hfac\n",
    "\n",
    "            # Source term\n",
    "            f[ij]=fun(h*(i+0.5*j),h*s*j)\n",
    "\n",
    "    # Solve the linear system\n",
    "    u=np.linalg.solve(d,f)\n",
    "\n",
    "    # Compute error\n",
    "    uerr=0\n",
    "    for j in range(1,n):\n",
    "        for i in range(1,n-j):\n",
    "            du=uex(h*(i+0.5*j),h*s*j)-u[ind(i,j,n)]\n",
    "            uerr+=du*du\n",
    "    return sqrt(s*uerr/(2*n*n))\n",
    "\n",
    "# Loop over a range of grid sizes and compute the error\n",
    "times = []\n",
    "for n in steps:\n",
    "    t0 = time()\n",
    "    res = poisson_tri(n)\n",
    "    t1 = time()\n",
    "    print(n, 1/n, res, t1-t0)\n",
    "    times.append(t1 - t0)\n",
    "    \n",
    "A = np.asmatrix([[np.log(step), 1] for step in steps])\n",
    "b, a = np.linalg.lstsq(A, np.log(times), rcond=None)[0]\n",
    "a = np.exp(a)\n",
    "fit = [a*n**b for n in steps]\n",
    "print(f\"a={a:.3}, b={b:.3}\")\n",
    "\n",
    "plt.loglog(steps, times, 'bo')\n",
    "plt.loglog(steps, fit)\n",
    "plt.xlabel(\"Step Size\")\n",
    "plt.ylabel(\"Clock Time\")\n",
    "plt.show()"
   ]
  },
  {
   "cell_type": "markdown",
   "id": "0188d718",
   "metadata": {},
   "source": [
    "## Part b-d"
   ]
  },
  {
   "cell_type": "code",
   "execution_count": 3,
   "id": "ba8ff9cf",
   "metadata": {},
   "outputs": [
    {
     "data": {
      "text/plain": [
       "'\\n# Loop over a range of grid sizes and compute the error\\ntimes = []\\nfor n in steps:\\n    t0 = time()\\n    print(n, 1/n, conjugate_gradient(n))\\n    t1 = time()\\n    times.append(t1 - t0)\\n\\nA = np.asmatrix([[np.log(step), 1] for step in steps])\\nb, a = np.linalg.lstsq(A, np.log(times), rcond=None)[0]\\na = np.exp(a)\\nfit = [a*n**b for n in steps]\\nprint(f\"a={a:.3}, b={b:.3}\")\\n\\nplt.loglog(steps, times, \\'bo\\')\\nplt.loglog(steps, fit)\\nplt.xlabel(\"Step Size\")\\nplt.ylabel(\"Clock Time\")\\nplt.show()\\n'"
      ]
     },
     "execution_count": 3,
     "metadata": {},
     "output_type": "execute_result"
    }
   ],
   "source": [
    "s=sqrt(0.75)\n",
    "steps = [10,20,40,80,160]\n",
    "\n",
    "def A(q):\n",
    "    return 0\n",
    "\n",
    "tol = 10e-10\n",
    "def conjugate_gradient(n):\n",
    "    h=1./n\n",
    "    m=(n-1)*(n-2)//2\n",
    "    \n",
    "    p = np.zeros(m)\n",
    "\n",
    "\"\"\"\n",
    "# Loop over a range of grid sizes and compute the error\n",
    "times = []\n",
    "for n in steps:\n",
    "    t0 = time()\n",
    "    print(n, 1/n, conjugate_gradient(n))\n",
    "    t1 = time()\n",
    "    times.append(t1 - t0)\n",
    "\n",
    "A = np.asmatrix([[np.log(step), 1] for step in steps])\n",
    "b, a = np.linalg.lstsq(A, np.log(times), rcond=None)[0]\n",
    "a = np.exp(a)\n",
    "fit = [a*n**b for n in steps]\n",
    "print(f\"a={a:.3}, b={b:.3}\")\n",
    "\n",
    "plt.loglog(steps, times, 'bo')\n",
    "plt.loglog(steps, fit)\n",
    "plt.xlabel(\"Step Size\")\n",
    "plt.ylabel(\"Clock Time\")\n",
    "plt.show()\n",
    "\"\"\""
   ]
  },
  {
   "cell_type": "markdown",
   "id": "9f4a242b",
   "metadata": {},
   "source": [
    "# Problem 3"
   ]
  },
  {
   "cell_type": "code",
   "execution_count": null,
   "id": "fb5720d4",
   "metadata": {},
   "outputs": [],
   "source": []
  }
 ],
 "metadata": {
  "kernelspec": {
   "display_name": "Python 3",
   "language": "python",
   "name": "python3"
  },
  "language_info": {
   "codemirror_mode": {
    "name": "ipython",
    "version": 3
   },
   "file_extension": ".py",
   "mimetype": "text/x-python",
   "name": "python",
   "nbconvert_exporter": "python",
   "pygments_lexer": "ipython3",
   "version": "3.8.8"
  }
 },
 "nbformat": 4,
 "nbformat_minor": 5
}
