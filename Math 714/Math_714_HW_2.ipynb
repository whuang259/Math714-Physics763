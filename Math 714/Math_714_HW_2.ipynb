{
 "cells": [
  {
   "cell_type": "code",
   "execution_count": 1,
   "id": "401fda29",
   "metadata": {},
   "outputs": [],
   "source": [
    "import numpy as np\n",
    "import matplotlib.pyplot as plt\n",
    "from math import *\n",
    "import sys\n",
    "from time import time"
   ]
  },
  {
   "cell_type": "markdown",
   "id": "3117a698",
   "metadata": {},
   "source": [
    "# Problem 2\n",
    "\n",
    "## Part a"
   ]
  },
  {
   "cell_type": "code",
   "execution_count": 21,
   "id": "af3eda84",
   "metadata": {},
   "outputs": [
    {
     "name": "stdout",
     "output_type": "stream",
     "text": [
      "n=10\t err=7.8903e-05\n",
      "n=20\t err=1.9746e-05\n",
      "n=40\t err=4.9366e-06\n",
      "n=80\t err=1.2342e-06\n",
      "n=160\t err=3.0854e-07\n",
      "\n",
      "a=6.09e-07\t b=3.24\n"
     ]
    },
    {
     "data": {
      "image/png": "[encoded data removed]",
      "text/plain": [
       "<Figure size 432x288 with 1 Axes>"
      ]
     },
     "metadata": {
      "needs_background": "light"
     },
     "output_type": "display_data"
    }
   ],
   "source": [
    "s=sqrt(0.75)\n",
    "steps = [10,20,40,80,160]\n",
    "\n",
    "# Function to map an interior index (i,j) into the vector index\n",
    "def ind(i,j,n):\n",
    "    return i-1+(j-1)*(2*n-2-j)//2\n",
    "\n",
    "# Source term for the desired reference solution\n",
    "def fun(x,y):\n",
    "    return -8*(sqrt(3)-2*y)*cos(y)+4*(-4-3*x+3*x*x+sqrt(3)*y-y*y)*sin(y)\n",
    "\n",
    "# Reference solution\n",
    "def uex(x,y):\n",
    "    return ((2*y-sqrt(3))**2-3*(2*x-1)**2)*sin(y)\n",
    "\n",
    "# Function to check whether an index pair (i,j) is the interior of the grid\n",
    "def inrange(i,j,n):\n",
    "    return i>0 and j>0 and i+j<n\n",
    "\n",
    "def err(u, n):  # Compute error\n",
    "    h=1./n\n",
    "    uerr = 0\n",
    "    for j in range(1,n):\n",
    "        for i in range(1,n-j):\n",
    "            du = uex(h*(i+0.5*j),h*s*j) - u[ind(i,j,n)]\n",
    "            uerr += du*du\n",
    "    return sqrt(s*uerr/(2*n*n))\n",
    "    \n",
    "def poisson_tri(n):\n",
    "    h=1./n\n",
    "    m=(n-1)*(n-2)//2\n",
    "\n",
    "    # Create derivative matrix and source term\n",
    "    d=np.zeros((m,m))\n",
    "    f=np.empty((m))\n",
    "    hfac=1/(3*h*h)\n",
    "    for j in range(1,n):\n",
    "        for i in range(1,n-j):\n",
    "            ij=ind(i,j,n)\n",
    "\n",
    "            # Derivative matrix\n",
    "            d[ij,ij]=-12*hfac\n",
    "            if(inrange(i+1,j,n)): d[ij,ind(i+1,j,n)]=2*hfac\n",
    "            if(inrange(i,j-1,n)): d[ij,ind(i,j-1,n)]=2*hfac\n",
    "            if(inrange(i-1,j+1,n)): d[ij,ind(i-1,j+1,n)]=2*hfac\n",
    "\n",
    "            # Additional lines for the stencil in part (b)\n",
    "            if(inrange(i-1,j,n)): d[ij,ind(i-1,j,n)]=2*hfac\n",
    "            if(inrange(i,j+1,n)): d[ij,ind(i,j+1,n)]=2*hfac\n",
    "            if(inrange(i+1,j-1,n)): d[ij,ind(i+1,j-1,n)]=2*hfac\n",
    "\n",
    "            # Source term\n",
    "            f[ij]=fun(h*(i+0.5*j),h*s*j)\n",
    "\n",
    "    # Solve the linear system\n",
    "    u=np.linalg.solve(d,f)\n",
    "    return u\n",
    "\n",
    "# Loop over a range of grid sizes and compute the error\n",
    "times = []\n",
    "for n in steps:\n",
    "    t0 = time()\n",
    "    res = poisson_tri(n)\n",
    "    print(f\"n={n}\\t err={err(res, n):.5}\")\n",
    "    t1 = time()\n",
    "    if t1 - t0 == 0: break\n",
    "    times.append(t1 - t0)\n",
    "    \n",
    "A = np.asmatrix([[np.log(step), 1] for step in steps])\n",
    "b, a = np.linalg.lstsq(A, np.log(times), rcond=None)[0]\n",
    "\n",
    "a = np.exp(a)\n",
    "fit = [a*n**b for n in steps]\n",
    "print(f\"\\na={a:.3}\\t b={b:.3}\")\n",
    "\n",
    "plt.loglog(steps, times, 'bo')\n",
    "plt.loglog(steps, fit)\n",
    "plt.xlabel(\"Step Size\")\n",
    "plt.ylabel(\"Clock Time\")\n",
    "plt.show()"
   ]
  },
  {
   "cell_type": "markdown",
   "id": "0188d718",
   "metadata": {},
   "source": [
    "## Part b"
   ]
  },
  {
   "cell_type": "code",
   "execution_count": 10,
   "id": "ba8ff9cf",
   "metadata": {},
   "outputs": [
    {
     "name": "stdout",
     "output_type": "stream",
     "text": [
      "1.0973037490875364e-23\n"
     ]
    }
   ],
   "source": [
    "def multA(q, n, h):  # Computes Aq\n",
    "    m = (n-1)*(n-2)//2\n",
    "    ans = np.zeros(m)\n",
    "    dirs = [[1,0],[0,-1],[-1,1],[-1,0],[0,1],[1,-1]]\n",
    "    for j in range(1,n):\n",
    "        for i in range(1,n-j):\n",
    "            ij=ind(i,j,n)\n",
    "            entry = -6 * q[ij]\n",
    "            for dir in dirs:\n",
    "                i2 = i + dir[0]\n",
    "                j2 = j + dir[1]\n",
    "                if inrange(i2, j2, n):\n",
    "                    entry += q[ind(i2,j2,n)]\n",
    "            ans[ij] = 2* entry / (3*h*h)\n",
    "    return ans\n",
    "\n",
    "def two_norm(r, n):\n",
    "    return np.sqrt((s/(2*n**2)) * np.dot(r,r))\n",
    "\n",
    "def conjugate_gradient(n):\n",
    "    h = 1./n\n",
    "    m = (n-1)*(n-2)//2\n",
    "    \n",
    "    u = np.zeros(m)\n",
    "    f = np.empty((m))\n",
    "    for j in range(1,n):\n",
    "        for i in range(1,n-j):\n",
    "            ij=ind(i,j,n)\n",
    "            f[ij]=fun(h*(i+0.5*j),h*s*j)\n",
    "    r = f - multA(u, n, h)\n",
    "    p = r.copy()\n",
    "\n",
    "    k = 0\n",
    "    while True:\n",
    "        k += 1\n",
    "        w = multA(p, n, h)\n",
    "        rr = np.dot(r,r)\n",
    "        alpha = rr/np.dot(p,w)\n",
    "        u += alpha * p\n",
    "        r -= alpha * w\n",
    "        if two_norm(r, n) < 1e-10:\n",
    "            break\n",
    "        beta = np.dot(r, r)/rr\n",
    "        p = r + beta * p\n",
    "    return u, k\n",
    "\n",
    "u, k = conjugate_gradient(40)\n",
    "expected = poisson_tri(40)\n",
    "print(np.linalg.norm(u - expected)**2)"
   ]
  },
  {
   "cell_type": "markdown",
   "id": "b2eb91a7-1160-45f7-ab53-f165f661ab95",
   "metadata": {},
   "source": [
    "## Part c-d"
   ]
  },
  {
   "cell_type": "code",
   "execution_count": 22,
   "id": "30a6ac98-59a5-4ef2-9c02-68a16d3703b8",
   "metadata": {},
   "outputs": [
    {
     "name": "stdout",
     "output_type": "stream",
     "text": [
      "n=10\t err=7.8903e-05\t k=16\n",
      "n=20\t err=1.9746e-05\t k=33\n",
      "n=40\t err=4.9366e-06\t k=68\n",
      "n=80\t err=1.2342e-06\t k=138\n",
      "n=160\t err=3.0854e-07\t k=279\n",
      "\n",
      "a=7.97e-06\t b=3.1\n"
     ]
    },
    {
     "data": {
      "image/png": "[encoded data removed]",
      "text/plain": [
       "<Figure size 432x288 with 1 Axes>"
      ]
     },
     "metadata": {
      "needs_background": "light"
     },
     "output_type": "display_data"
    }
   ],
   "source": [
    "times = []\n",
    "for n in steps:\n",
    "    t0 = time()\n",
    "    res, k = conjugate_gradient(n)\n",
    "    print(f\"n={n}\\t err={err(res, n):.5}\\t k={k}\")\n",
    "    t1 = time()\n",
    "    times.append(t1 - t0)\n",
    "\n",
    "A = np.asmatrix([[np.log(step), 1] for step in steps])\n",
    "b, a = np.linalg.lstsq(A, np.log(times), rcond=None)[0]\n",
    "a = np.exp(a)\n",
    "fit = [a*n**b for n in steps]\n",
    "print(f\"\\na={a:.3}\\t b={b:.3}\")\n",
    "\n",
    "plt.loglog(steps, times, 'bo')\n",
    "plt.loglog(steps, fit)\n",
    "plt.xlabel(\"Step Size\")\n",
    "plt.ylabel(\"Clock Time\")\n",
    "plt.show()"
   ]
  },
  {
   "cell_type": "markdown",
   "id": "808e11a1-fa78-4e5d-b1b1-02a05f43e1ae",
   "metadata": {},
   "source": [
    "## Part e-f"
   ]
  },
  {
   "cell_type": "code",
   "execution_count": 23,
   "id": "223e4c2a-40c5-4809-af90-83c4f23d6e16",
   "metadata": {},
   "outputs": [
    {
     "name": "stdout",
     "output_type": "stream",
     "text": [
      "n=10\t err=7.8903e-05\t k=21\n",
      "n=20\t err=1.9746e-05\t k=43\n",
      "n=40\t err=4.9366e-06\t k=85\n",
      "n=80\t err=1.2342e-06\t k=169\n",
      "n=160\t err=3.0854e-07\t k=332\n",
      "\n",
      "a=1.64e-05\t b=2.98\n"
     ]
    },
    {
     "data": {
      "image/png": "[encoded data removed]",
      "text/plain": [
       "<Figure size 432x288 with 1 Axes>"
      ]
     },
     "metadata": {
      "needs_background": "light"
     },
     "output_type": "display_data"
    }
   ],
   "source": [
    "# maps a matrix index to block number + index within that block\n",
    "def ind_to_block_ind(i,j,w):  \n",
    "    b = i // w\n",
    "    if j // w != b:\n",
    "        return -1,0,0\n",
    "    return b,i%w,j%w\n",
    "\n",
    "# compute the blocks that define M and then invert them for use later\n",
    "def get_blocks(h,m): \n",
    "    w = floor(np.sqrt(m))\n",
    "\n",
    "    # get the correct number of blocks and their sizes\n",
    "    num_blocks = m//w if m % w == 0 else m//w + 1\n",
    "    blocks = []\n",
    "    cur = 0\n",
    "    for i in range(num_blocks):\n",
    "        block_size = w if cur + w < m else m - cur\n",
    "        blocks.append(np.zeros((block_size, block_size)))\n",
    "        cur += w\n",
    "\n",
    "    # populate the blocks\n",
    "    hfac = 1/(3*h*h)\n",
    "    dirs = [[1,0],[0,-1],[-1,1],[-1,0],[0,1],[1,-1]]\n",
    "    for j in range(1, n):\n",
    "        for i in range(1, n-j):\n",
    "            ij = ind(i, j, n)\n",
    "            b,x,y = ind_to_block_ind(ij, ij, w)\n",
    "            blocks[b][x][y] = -12 * hfac\n",
    "            \n",
    "            for dir in dirs:\n",
    "                i2 = i + dir[0]\n",
    "                j2 = j + dir[1]\n",
    "                if not inrange(i2, j2, n):\n",
    "                    continue\n",
    "                b,x,y = ind_to_block_ind(ij, ind(i2,j2,n), w)\n",
    "                if b >= 0:\n",
    "                    blocks[b][x][y] = 2 * hfac\n",
    "\n",
    "    for i in range(len(blocks)):\n",
    "        blocks[i] = np.linalg.inv(blocks[i])\n",
    "    return blocks\n",
    "\n",
    "def invM(M, q): # returns M^{-1}q by multiplying in the inverted blocks\n",
    "    m = len(q)\n",
    "    w = len(M[0])\n",
    "    ans = np.zeros(m)\n",
    "    for b, M_inv in enumerate(M):\n",
    "        start = b * w\n",
    "        end = min(start + w, m)\n",
    "        ans[start:end] = np.matmul(M_inv, q[start:end])\n",
    "    return ans\n",
    "\n",
    "def precond_conjugate_gradient(n):\n",
    "    h = 1./n\n",
    "    m = (n-1)*(n-2)//2\n",
    "    \n",
    "    f = np.empty((m))\n",
    "    for j in range(1,n):\n",
    "        for i in range(1,n-j):\n",
    "            ij=ind(i,j,n)\n",
    "            f[ij]=fun(h*(i+0.5*j),h*s*j)\n",
    "\n",
    "    M = get_blocks(h,m)\n",
    "    u = np.zeros(m)\n",
    "    r = f.copy()\n",
    "    p = invM(M, r)\n",
    "    y = p.copy()\n",
    "\n",
    "    k = 0\n",
    "    while True:\n",
    "        k += 1\n",
    "        z = multA(p, n, h)\n",
    "        yr = np.dot(y, r)\n",
    "        nu = yr/np.dot(p, z)\n",
    "        u += nu * p\n",
    "        r -= nu * z\n",
    "        if two_norm(r, n) < 1e-10:\n",
    "            break\n",
    "        y = invM(M, r)\n",
    "        mu = np.dot(y, r)/yr\n",
    "        p = y + mu * p\n",
    "    return u, k\n",
    "\n",
    "times = []\n",
    "for n in steps:\n",
    "    t0 = time()\n",
    "    res, k = precond_conjugate_gradient(n)\n",
    "    print(f\"n={n}\\t err={err(res, n):.5}\\t k={k}\")\n",
    "    t1 = time()\n",
    "    times.append(t1 - t0)\n",
    "\n",
    "A = np.asmatrix([[np.log(step), 1] for step in steps])\n",
    "b, a = np.linalg.lstsq(A, np.log(times), rcond=None)[0]\n",
    "a = np.exp(a)\n",
    "fit = [a*n**b for n in steps]\n",
    "print(f\"\\na={a:.3}\\t b={b:.3}\")\n",
    "\n",
    "plt.loglog(steps, times, 'bo')\n",
    "plt.loglog(steps, fit)\n",
    "plt.xlabel(\"Step Size\")\n",
    "plt.ylabel(\"Clock Time\")\n",
    "plt.show()"
   ]
  },
  {
   "cell_type": "markdown",
   "id": "9f4a242b",
   "metadata": {},
   "source": [
    "# Problem 3\n",
    "\n",
    "## Part c"
   ]
  },
  {
   "cell_type": "code",
   "execution_count": 24,
   "id": "fb5720d4",
   "metadata": {},
   "outputs": [
    {
     "data": {
      "image/png": "[encoded data removed]",
      "text/plain": [
       "<Figure size 432x288 with 1 Axes>"
      ]
     },
     "metadata": {
      "needs_background": "light"
     },
     "output_type": "display_data"
    },
    {
     "name": "stdout",
     "output_type": "stream",
     "text": [
      "a=1.2, b=4.22\n"
     ]
    },
    {
     "data": {
      "image/png": "[encoded data removed]",
      "text/plain": [
       "<Figure size 432x288 with 1 Axes>"
      ]
     },
     "metadata": {
      "needs_background": "light"
     },
     "output_type": "display_data"
    }
   ],
   "source": [
    "def f(y):\n",
    "    return np.asarray([y[1], -26*y[0] + -2*y[1]])\n",
    "\n",
    "def yex(t): # exact y(t)\n",
    "    return (5 * np.cos(5*t) + np.sin(5*t)) / (5 * np.exp(t))\n",
    "\n",
    "def yp(t): # y'(t)\n",
    "    return (-26 * np.sin(5*t)) / (5 * np.exp(t))\n",
    "\n",
    "def nystrom(h):\n",
    "    n = (int)(3/h)\n",
    "    ys = [[yex(i*h), yp(i*h)] for i in range(3)]\n",
    "    \n",
    "    for k in range(2, n):\n",
    "        A = np.asarray([[1, -h/3], [26*h/3, 1 + 2*h/3]])\n",
    "        b = np.asarray(ys[k-1])\n",
    "        b += (h/3) * (f(ys[k-1]) + 4 * f(ys[k]))\n",
    "        ys.append(np.linalg.solve(A, b))\n",
    "\n",
    "    xs = [i*h for i in range(n+1)]\n",
    "    exact_sol = [yex(x) for x in xs]\n",
    "    approx_sol = [y[0] for y in ys]\n",
    "    return xs, exact_sol, approx_sol\n",
    "\n",
    "xs, exact_sol, approx_sol = nystrom(0.02)\n",
    "plt.plot(xs, exact_sol, label=\"Exact\")\n",
    "plt.plot(xs, approx_sol, label=\"Approx\")\n",
    "plt.legend(loc=\"upper right\")\n",
    "plt.show()\n",
    "\n",
    "hs = [1e-3, 5e-3, 1e-2, 5e-2, 1e-1]\n",
    "error = []\n",
    "for h in hs:\n",
    "    xs, exact_sol, approx_sol = nystrom(h)\n",
    "    error.append(np.abs(exact_sol[-1] - approx_sol[-1]))\n",
    "\n",
    "A = np.asmatrix([[np.log(h), 1] for h in hs])\n",
    "b, a = np.linalg.lstsq(A, np.log(error), rcond=None)[0]\n",
    "a = np.exp(a)\n",
    "fit = [a*h**b for h in hs]\n",
    "print(f\"a={a:.3}, b={b:.3}\")\n",
    "\n",
    "plt.loglog(hs, error, 'bo')\n",
    "plt.loglog(hs, fit)\n",
    "plt.show()"
   ]
  },
  {
   "cell_type": "markdown",
   "id": "5e5fd7b2-1434-42ac-b8b4-2e953626b619",
   "metadata": {},
   "source": [
    "## Part d"
   ]
  },
  {
   "cell_type": "code",
   "execution_count": 25,
   "id": "86776828-874b-4b74-bcc8-2681b53afb99",
   "metadata": {},
   "outputs": [
    {
     "name": "stdout",
     "output_type": "stream",
     "text": [
      "a=33.7, b=2.76\n"
     ]
    },
    {
     "data": {
      "image/png": "[encoded data removed]",
      "text/plain": [
       "<Figure size 432x288 with 1 Axes>"
      ]
     },
     "metadata": {
      "needs_background": "light"
     },
     "output_type": "display_data"
    }
   ],
   "source": [
    "def nystrom_forwardEuler(h):\n",
    "    n = (int)(3/h)\n",
    "    ys = [np.asarray([1,0])]\n",
    "    ys.append(ys[0] + h * f(ys[0]))\n",
    "    ys.append(ys[1] + h * f(ys[1]))\n",
    "    \n",
    "    for k in range(2, n):\n",
    "        A = np.asarray([[1, -h/3], [26*h/3, 1 + 2*h/3]])\n",
    "        b = np.asarray(ys[k-1])\n",
    "        b += (h/3) * (f(ys[k-1]) + 4 * f(ys[k]))\n",
    "        ys.append(np.linalg.solve(A, b))\n",
    "\n",
    "    xs = [i*h for i in range(n+1)]\n",
    "    exact_sol = [yex(x) for x in xs]\n",
    "    approx_sol = [y[0] for y in ys]\n",
    "    return xs, exact_sol, approx_sol\n",
    "\n",
    "hs = [1e-3, 5e-3, 1e-2, 5e-2, 1e-1]\n",
    "error = []\n",
    "for h in hs:\n",
    "    xs, exact_sol, approx_sol = nystrom_forwardEuler(h)\n",
    "    error.append(np.abs(exact_sol[-1] - approx_sol[-1]))\n",
    "\n",
    "A = np.asmatrix([[np.log(h), 1] for h in hs])\n",
    "b, a = np.linalg.lstsq(A, np.log(error), rcond=None)[0]\n",
    "a = np.exp(a)\n",
    "fit = [a*h**b for h in hs]\n",
    "print(f\"a={a:.3}, b={b:.3}\")\n",
    "\n",
    "plt.loglog(hs, error, 'bo')\n",
    "plt.loglog(hs, fit)\n",
    "plt.show()"
   ]
  }
 ],
 "metadata": {
  "kernelspec": {
   "display_name": "Python 3",
   "language": "python",
   "name": "python3"
  },
  "language_info": {
   "codemirror_mode": {
    "name": "ipython",
    "version": 3
   },
   "file_extension": ".py",
   "mimetype": "text/x-python",
   "name": "python",
   "nbconvert_exporter": "python",
   "pygments_lexer": "ipython3",
   "version": "3.8.8"
  }
 },
 "nbformat": 4,
 "nbformat_minor": 5
}
