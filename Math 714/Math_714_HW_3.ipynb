{
 "cells": [
  {
   "cell_type": "markdown",
   "id": "080a421a",
   "metadata": {},
   "source": [
    "# 1. Stability of the Runge-Kutta method (2 points)\n",
    "\n",
    "Adapt the boundary locus method to determine the region of absolute stability for the Runge-Kutta method \n",
    "$$ U^{n+1}=U^n+kf\\left(U^n+\\frac{k}{2}f(U^n)\\right) $$ \n",
    "Plot the region of absolute stability and report whether the method is zero-stable, A-stable, or L-stable."
   ]
  },
  {
   "cell_type": "code",
   "execution_count": null,
   "id": "b222b00a",
   "metadata": {},
   "outputs": [],
   "source": []
  },
  {
   "cell_type": "markdown",
   "id": "86df6f9e",
   "metadata": {},
   "source": [
    "# 2.  Stability of the TR--BDF2 method (3 points)\n",
    "\n",
    "The TR--BDF2 method is an implicit 2-stage Runge--Kutta method based ontaking a half time step with the trapezoidal rule and then a half step with the 2-step BDF method:\n",
    "\\begin{align*}\n",
    "  U^*               & = U^n + \\frac{k}{4}(f(U^n)+f(U^*)), \\\\\n",
    "  3U^{n+1}-4U^*+U^n & = kf(U^{n+1}).\n",
    "\\end{align*}\n",
    "\n",
    "1. Show that this method is second-order accurate using Taylor series expansions.\n",
    "2. Determine the region of absolute stability and plot it. Based on this, show that the method is L-stable."
   ]
  },
  {
   "cell_type": "code",
   "execution_count": null,
   "id": "91b63a7e",
   "metadata": {},
   "outputs": [],
   "source": []
  },
  {
   "cell_type": "markdown",
   "id": "fef9e5e4",
   "metadata": {},
   "source": [
    "# 3. Stability of the midpoint method (5 points)\n",
    "A minor variation on the trapezoidal method is the midpoint method:\n",
    "$$ U^{n+1}=U^n+kf\\left(\\frac{U^n+U^{n+1}}{2},t_n+\\frac{k}{2}\\right) $$\n",
    "        \n",
    "For constant-coefficient ODEs, this is exactly the same as the trapezoidal method.\n",
    "1. Show that this method is second-order accurate using Taylor series expansions.\n",
    "2. Show that this method is A-stable.\n",
    "3. Show that even if $\\lambda$ varies in time, so that\n",
    "      $$ u'=\\lambda(t)u $$\n",
    "    an analogue of A-stability still holds, i.e., using the midpoint method,\n",
    "      $$ |U^{n+1}|\\leq |U^n| \\quad \\text{if} \\quad \\mathbb{R}(\\lambda)\\leq 0 $$\n",
    "    This property is called AN-stability.\n",
    "4. Show that the trapezoidal method, on the other hand, is not AN-stable."
   ]
  },
  {
   "cell_type": "markdown",
   "id": "04280f16",
   "metadata": {},
   "source": [
    "*Solution:* "
   ]
  },
  {
   "cell_type": "markdown",
   "id": "528591f8",
   "metadata": {},
   "source": [
    "# 4. The pizza problem (10 points)\n",
    "\n",
    "The image below shows a map of the seventh floor of Van Vleck Hall. All the doors are open.\n",
    "        \n",
    "A text file called `van_vleck.txt` is provided that encodes thismap as a $73 \\times 160$ matrix using 1 for walls and 0 for empty space. Use the convention that $(i,j)=(0,0)$ is the top left of the matrix and $(i,j)=(72,159)$ is the bottom right of the matrix. The grid spacing is $h=22.5\\,\\text{cm}$.\n",
    "\n",
    "A student exits the elevator holding a delicious pizza with a strong smell, which covers the region $P$ over gridpoints $(i,j)$ with $36\\le i < 40, 44\\le j <48$. Let $u(x,y,t)$ be the smell concentration of the pizza at time $t$ at position $\\mathbf{v} =(x,y)$. The concentration satisfies the diffusion equation\n",
    "  $$ \\frac{\\partial u}{\\partial t} = b \\nabla^2 u $$\n",
    "where $b=0.55\\,\\text{m}^2\\,\\text{s}^{-1}$. In the region $P$ the field is kept fixed at $u(x,y)=1$. At each wall, the concentration satisfies a no-flux boundary condition,\n",
    "  $$ \\vec{n} \\cdot \\nabla u =0 $$\n",
    "where $\\vec{n}$ is a unit vector normal to the wall.\n",
    "        \n",
    "1. Write a program to solve for the smell concentration field inside the building, using the two-dimensional discretization\n",
    "    $$ \\frac{u_{i,j}^{n+1} - u_{i,j}^n}{k} = b \\frac{u_{i+1,j}^n + u_{i,j+1}^n - 4u_{i,j}^n + u_{i-1,j}^n+u_{i,j-1}^n}{h^2} $$\n",
    "    where $u_{i,j}^n$ is the numerical approximation of $u(jh,(72-i)h,nk)$. Choose the timestep to be $k = \\frac{h^2}{6b}$ or smaller. As initial conditions, use\n",
    "    $$ u_{i,j}^0=\\begin{cases}\n",
    "        1 & \\qquad \\text{if $(i,j)\\in P$,} \\\\\n",
    "        0 & \\qquad \\text{otherwise,}\n",
    "      \\end{cases} $$\n",
    "    and throughout the simulation, keep $u_{i,j}=1$ for $(i,j)\\in P$. To account for the boundary condition, use the\n",
    "    ghost node approach: when considering a point $(i,j)$ that references an orthogonal neighbor $(i^*,j^*)$ that is a wall, treat $u_{i^*,j^*}^n$ as equal to $u_{i,j}^n$. As an example of this, suppose that at a particular $(i,j)$, the points $(i,j-1)$ and $(i+1,j)$ are within walls. Then, after taking into account the boundary conditions, the appropriate finite-difference relation is\n",
    "      $$ \\frac{u_{i,j}^{n+1} - u_{i,j}^n}{k} = b \\frac{u_{i,j+1}^n - 2u_{i,j}^n + u_{i-1,j}^n}{h^2} = 0 $$\n",
    "    due to cancellation of some terms.\n",
    "\n",
    "2. Make two-dimensional plots of the scaled smell concentration field $[u(x,y)]^{1/4}$ at $t=1\\,\\text{s}, 5\\,\\text{s}, 25\\,\\text{s}, 100\\,\\text{s}$. Here, the quarter power helps to enhance small smell concentrations for visualization purposes. In the program files, there are some example programs that you may find useful, which make plots of a two-dimensional field with the map overlaid. You should expect that your program may take a reasonable amount of wall-clock time, possibly up to ten minutes to simulate to $t=100\\,\\text{s}$. You may wish test your program over smaller intervals of $t$ and consider possible code optimizations if necessary.\n",
    "\n",
    "3. Three professors T, Q, and C are trying to work at locations $(31,14)$, $(58,103)$, and $(58,147)$, respectively. Calculate the time in seconds to one decimal place when each professor will be distracted by the pizza smell, defined as when $u$ first exceeds $10^{-4}$ at each location.\n",
    "\n",
    "4. Make a semilog plot showing the smell concentration at the three professors' locations over the range $0 \\le t \\le 100\\,\\text{s}$."
   ]
  },
  {
   "cell_type": "markdown",
   "id": "1defe5cf",
   "metadata": {},
   "source": [
    "### Part 1"
   ]
  },
  {
   "cell_type": "code",
   "execution_count": null,
   "id": "ceab77fd",
   "metadata": {},
   "outputs": [],
   "source": []
  }
 ],
 "metadata": {
  "kernelspec": {
   "display_name": "Python 3",
   "language": "python",
   "name": "python3"
  },
  "language_info": {
   "codemirror_mode": {
    "name": "ipython",
    "version": 3
   },
   "file_extension": ".py",
   "mimetype": "text/x-python",
   "name": "python",
   "nbconvert_exporter": "python",
   "pygments_lexer": "ipython3",
   "version": "3.8.8"
  }
 },
 "nbformat": 4,
 "nbformat_minor": 5
}
